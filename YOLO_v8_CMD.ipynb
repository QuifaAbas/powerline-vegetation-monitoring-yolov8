{
  "nbformat": 4,
  "nbformat_minor": 0,
  "metadata": {
    "colab": {
      "provenance": [],
      "authorship_tag": "ABX9TyNBiK5hFgbqGfigHc2zbZc/",
      "include_colab_link": true
    },
    "kernelspec": {
      "name": "python3",
      "display_name": "Python 3"
    },
    "language_info": {
      "name": "python"
    }
  },
  "cells": [
    {
      "cell_type": "markdown",
      "metadata": {
        "id": "view-in-github",
        "colab_type": "text"
      },
      "source": [
        "<a href=\"https://colab.research.google.com/github/QuifaAbas/powerline-vegetation-monitoring-yolov8/blob/main/YOLO_v8_CMD.ipynb\" target=\"_parent\"><img src=\"https://colab.research.google.com/assets/colab-badge.svg\" alt=\"Open In Colab\"/></a>"
      ]
    },
    {
      "cell_type": "markdown",
      "source": [
        "Installation"
      ],
      "metadata": {
        "id": "kJhmEA0sqdPg"
      }
    },
    {
      "cell_type": "code",
      "execution_count": null,
      "metadata": {
        "id": "weumL1L8pxbg"
      },
      "outputs": [],
      "source": [
        "!pip install ultralytics"
      ]
    },
    {
      "cell_type": "markdown",
      "source": [
        "Custom Training"
      ],
      "metadata": {
        "id": "VzJdS6Lrqj63"
      }
    },
    {
      "cell_type": "code",
      "source": [
        "from google.colab import drive\n",
        "drive.mount('/content/gdrive')"
      ],
      "metadata": {
        "id": "750aaqP1qkp9"
      },
      "execution_count": null,
      "outputs": []
    },
    {
      "cell_type": "code",
      "source": [
        "%cd /content/gdrive/MyDrive/YOLOv8x"
      ],
      "metadata": {
        "id": "z4Em6tdHqnOm"
      },
      "execution_count": null,
      "outputs": []
    },
    {
      "cell_type": "code",
      "source": [
        "!ls"
      ],
      "metadata": {
        "id": "jAlgOv7_qot4"
      },
      "execution_count": null,
      "outputs": []
    },
    {
      "cell_type": "code",
      "source": [
        "%cd /content/gdrive/MyDrive/YOLOv8x\n",
        "\n",
        "!yolo task=detect mode=train model=yolov8x.pt data= data.yaml epochs=100 plots=True"
      ],
      "metadata": {
        "id": "VJrrwAHLqqwQ"
      },
      "execution_count": null,
      "outputs": []
    },
    {
      "cell_type": "code",
      "source": [
        "!ls /content/gdrive/MyDrive/YOLOv8x/runs/detect/train13"
      ],
      "metadata": {
        "id": "jVSEoTHoqsjF"
      },
      "execution_count": null,
      "outputs": []
    },
    {
      "cell_type": "code",
      "source": [
        "from IPython.display import Image\n",
        "\n",
        "# Display the image\n",
        "Image(filename='/content/gdrive/MyDrive/YOLOv8x/runs/detect/train13/confusion_matrix_normalized.png', width=600)"
      ],
      "metadata": {
        "id": "5OKOOOniquGk"
      },
      "execution_count": null,
      "outputs": []
    },
    {
      "cell_type": "code",
      "source": [
        "from IPython.display import Image\n",
        "\n",
        "# Display the image\n",
        "Image('/content/gdrive/MyDrive/YOLOv8x/runs/detect/train13/results.png', width=600)"
      ],
      "metadata": {
        "id": "r7z8EPP1qv1C"
      },
      "execution_count": null,
      "outputs": []
    },
    {
      "cell_type": "markdown",
      "source": [
        "Validate Custom Model"
      ],
      "metadata": {
        "id": "kbYQdrfTqyGg"
      }
    },
    {
      "cell_type": "code",
      "source": [
        "!yolo task=detect mode=val model=/content/gdrive/MyDrive/YOLOv8x/runs/detect/train13/weights/best.pt data=/content/gdrive/MyDrive/YOLOv8x/data.yaml"
      ],
      "metadata": {
        "id": "gv70ySRGqymc"
      },
      "execution_count": null,
      "outputs": []
    },
    {
      "cell_type": "code",
      "source": [
        "!ls runs/detect/val"
      ],
      "metadata": {
        "id": "nZiYdnqWq0St"
      },
      "execution_count": null,
      "outputs": []
    },
    {
      "cell_type": "markdown",
      "source": [
        "Inference with Custom Model"
      ],
      "metadata": {
        "id": "ya-5OiAlq5vR"
      }
    },
    {
      "cell_type": "code",
      "source": [
        "!ls runs/detect/predict"
      ],
      "metadata": {
        "id": "H_NbcqDpq6f7"
      },
      "execution_count": null,
      "outputs": []
    },
    {
      "cell_type": "code",
      "source": [
        "from IPython.display import Image\n",
        "\n",
        "# Display the image\n",
        "Image('runs/detect/predict2/DJI_0369.JPG', width=600)"
      ],
      "metadata": {
        "id": "81vO5WUrq9cr"
      },
      "execution_count": null,
      "outputs": []
    },
    {
      "cell_type": "markdown",
      "source": [
        "Inferencing on video"
      ],
      "metadata": {
        "id": "5-KFG4qIrAex"
      }
    },
    {
      "cell_type": "code",
      "source": [
        "!yolo task=detect mode=predict model=/content/gdrive/MyDrive/YOLOv8x/runs/detect/train13/weights/best.pt conf=0.1 iou=0.8 source=/content/gdrive/MyDrive/Videos/vid6.mp4 show_conf=False"
      ],
      "metadata": {
        "id": "4oVDbZFyrBIE"
      },
      "execution_count": null,
      "outputs": []
    },
    {
      "cell_type": "markdown",
      "source": [
        "Download file"
      ],
      "metadata": {
        "id": "aiwWMOjhrNbw"
      }
    },
    {
      "cell_type": "code",
      "source": [
        "import shutil\n",
        "\n",
        "# Specify paths\n",
        "source_path = '/content/runs/detect/predict18/vid6.avi'\n",
        "destination_path = '/content/gdrive/MyDrive/Videos/vid6_org_2.mp4'\n",
        "\n",
        "# Move and rename the file\n",
        "shutil.move(source_path, destination_path)"
      ],
      "metadata": {
        "id": "cJQG1k62rFv2"
      },
      "execution_count": null,
      "outputs": []
    },
    {
      "cell_type": "code",
      "source": [
        "from google.colab import files\n",
        "files.download('/content/runs/detect/predict3/vid2.avi')"
      ],
      "metadata": {
        "id": "Q4a9N2CNrI29"
      },
      "execution_count": null,
      "outputs": []
    }
  ]
}